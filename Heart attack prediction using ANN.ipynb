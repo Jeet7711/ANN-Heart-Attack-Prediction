{
 "cells": [
  {
   "cell_type": "code",
   "execution_count": 1,
   "id": "33f6afda",
   "metadata": {},
   "outputs": [],
   "source": [
    "# importing packages\n",
    "import pandas as pd\n",
    "import numpy as np"
   ]
  },
  {
   "cell_type": "code",
   "execution_count": 2,
   "id": "6796d6aa",
   "metadata": {},
   "outputs": [],
   "source": [
    "# reading data\n",
    "data = pd.read_csv('heart.csv')"
   ]
  },
  {
   "cell_type": "code",
   "execution_count": 3,
   "id": "13d36f4e",
   "metadata": {},
   "outputs": [
    {
     "data": {
      "text/html": [
       "<div>\n",
       "<style scoped>\n",
       "    .dataframe tbody tr th:only-of-type {\n",
       "        vertical-align: middle;\n",
       "    }\n",
       "\n",
       "    .dataframe tbody tr th {\n",
       "        vertical-align: top;\n",
       "    }\n",
       "\n",
       "    .dataframe thead th {\n",
       "        text-align: right;\n",
       "    }\n",
       "</style>\n",
       "<table border=\"1\" class=\"dataframe\">\n",
       "  <thead>\n",
       "    <tr style=\"text-align: right;\">\n",
       "      <th></th>\n",
       "      <th>age</th>\n",
       "      <th>sex</th>\n",
       "      <th>cp</th>\n",
       "      <th>trtbps</th>\n",
       "      <th>chol</th>\n",
       "      <th>fbs</th>\n",
       "      <th>restecg</th>\n",
       "      <th>thalachh</th>\n",
       "      <th>exng</th>\n",
       "      <th>oldpeak</th>\n",
       "      <th>slp</th>\n",
       "      <th>caa</th>\n",
       "      <th>thall</th>\n",
       "      <th>output</th>\n",
       "    </tr>\n",
       "  </thead>\n",
       "  <tbody>\n",
       "    <tr>\n",
       "      <th>0</th>\n",
       "      <td>63</td>\n",
       "      <td>1</td>\n",
       "      <td>3</td>\n",
       "      <td>145</td>\n",
       "      <td>233</td>\n",
       "      <td>1</td>\n",
       "      <td>0</td>\n",
       "      <td>150</td>\n",
       "      <td>0</td>\n",
       "      <td>2.3</td>\n",
       "      <td>0</td>\n",
       "      <td>0</td>\n",
       "      <td>1</td>\n",
       "      <td>1</td>\n",
       "    </tr>\n",
       "    <tr>\n",
       "      <th>1</th>\n",
       "      <td>37</td>\n",
       "      <td>1</td>\n",
       "      <td>2</td>\n",
       "      <td>130</td>\n",
       "      <td>250</td>\n",
       "      <td>0</td>\n",
       "      <td>1</td>\n",
       "      <td>187</td>\n",
       "      <td>0</td>\n",
       "      <td>3.5</td>\n",
       "      <td>0</td>\n",
       "      <td>0</td>\n",
       "      <td>2</td>\n",
       "      <td>1</td>\n",
       "    </tr>\n",
       "    <tr>\n",
       "      <th>2</th>\n",
       "      <td>41</td>\n",
       "      <td>0</td>\n",
       "      <td>1</td>\n",
       "      <td>130</td>\n",
       "      <td>204</td>\n",
       "      <td>0</td>\n",
       "      <td>0</td>\n",
       "      <td>172</td>\n",
       "      <td>0</td>\n",
       "      <td>1.4</td>\n",
       "      <td>2</td>\n",
       "      <td>0</td>\n",
       "      <td>2</td>\n",
       "      <td>1</td>\n",
       "    </tr>\n",
       "    <tr>\n",
       "      <th>3</th>\n",
       "      <td>56</td>\n",
       "      <td>1</td>\n",
       "      <td>1</td>\n",
       "      <td>120</td>\n",
       "      <td>236</td>\n",
       "      <td>0</td>\n",
       "      <td>1</td>\n",
       "      <td>178</td>\n",
       "      <td>0</td>\n",
       "      <td>0.8</td>\n",
       "      <td>2</td>\n",
       "      <td>0</td>\n",
       "      <td>2</td>\n",
       "      <td>1</td>\n",
       "    </tr>\n",
       "    <tr>\n",
       "      <th>4</th>\n",
       "      <td>57</td>\n",
       "      <td>0</td>\n",
       "      <td>0</td>\n",
       "      <td>120</td>\n",
       "      <td>354</td>\n",
       "      <td>0</td>\n",
       "      <td>1</td>\n",
       "      <td>163</td>\n",
       "      <td>1</td>\n",
       "      <td>0.6</td>\n",
       "      <td>2</td>\n",
       "      <td>0</td>\n",
       "      <td>2</td>\n",
       "      <td>1</td>\n",
       "    </tr>\n",
       "  </tbody>\n",
       "</table>\n",
       "</div>"
      ],
      "text/plain": [
       "   age  sex  cp  trtbps  chol  fbs  restecg  thalachh  exng  oldpeak  slp  \\\n",
       "0   63    1   3     145   233    1        0       150     0      2.3    0   \n",
       "1   37    1   2     130   250    0        1       187     0      3.5    0   \n",
       "2   41    0   1     130   204    0        0       172     0      1.4    2   \n",
       "3   56    1   1     120   236    0        1       178     0      0.8    2   \n",
       "4   57    0   0     120   354    0        1       163     1      0.6    2   \n",
       "\n",
       "   caa  thall  output  \n",
       "0    0      1       1  \n",
       "1    0      2       1  \n",
       "2    0      2       1  \n",
       "3    0      2       1  \n",
       "4    0      2       1  "
      ]
     },
     "execution_count": 3,
     "metadata": {},
     "output_type": "execute_result"
    }
   ],
   "source": [
    "data.head()"
   ]
  },
  {
   "cell_type": "code",
   "execution_count": 4,
   "id": "449a2a82",
   "metadata": {},
   "outputs": [],
   "source": [
    "# independent var droping output column\n",
    "X = data.drop('output', axis = 1).values"
   ]
  },
  {
   "cell_type": "code",
   "execution_count": 5,
   "id": "5965fa71",
   "metadata": {},
   "outputs": [
    {
     "data": {
      "text/plain": [
       "array([[63.,  1.,  3., ...,  0.,  0.,  1.],\n",
       "       [37.,  1.,  2., ...,  0.,  0.,  2.],\n",
       "       [41.,  0.,  1., ...,  2.,  0.,  2.],\n",
       "       ...,\n",
       "       [68.,  1.,  0., ...,  1.,  2.,  3.],\n",
       "       [57.,  1.,  0., ...,  1.,  1.,  3.],\n",
       "       [57.,  0.,  1., ...,  1.,  1.,  2.]])"
      ]
     },
     "execution_count": 5,
     "metadata": {},
     "output_type": "execute_result"
    }
   ],
   "source": [
    "X"
   ]
  },
  {
   "cell_type": "code",
   "execution_count": 6,
   "id": "354baf65",
   "metadata": {},
   "outputs": [],
   "source": [
    "# dependent var\n",
    "y = data['output'].values"
   ]
  },
  {
   "cell_type": "code",
   "execution_count": 7,
   "id": "404475d7",
   "metadata": {},
   "outputs": [
    {
     "data": {
      "text/plain": [
       "array([1, 1, 1, 1, 1, 1, 1, 1, 1, 1, 1, 1, 1, 1, 1, 1, 1, 1, 1, 1, 1, 1,\n",
       "       1, 1, 1, 1, 1, 1, 1, 1, 1, 1, 1, 1, 1, 1, 1, 1, 1, 1, 1, 1, 1, 1,\n",
       "       1, 1, 1, 1, 1, 1, 1, 1, 1, 1, 1, 1, 1, 1, 1, 1, 1, 1, 1, 1, 1, 1,\n",
       "       1, 1, 1, 1, 1, 1, 1, 1, 1, 1, 1, 1, 1, 1, 1, 1, 1, 1, 1, 1, 1, 1,\n",
       "       1, 1, 1, 1, 1, 1, 1, 1, 1, 1, 1, 1, 1, 1, 1, 1, 1, 1, 1, 1, 1, 1,\n",
       "       1, 1, 1, 1, 1, 1, 1, 1, 1, 1, 1, 1, 1, 1, 1, 1, 1, 1, 1, 1, 1, 1,\n",
       "       1, 1, 1, 1, 1, 1, 1, 1, 1, 1, 1, 1, 1, 1, 1, 1, 1, 1, 1, 1, 1, 1,\n",
       "       1, 1, 1, 1, 1, 1, 1, 1, 1, 1, 1, 0, 0, 0, 0, 0, 0, 0, 0, 0, 0, 0,\n",
       "       0, 0, 0, 0, 0, 0, 0, 0, 0, 0, 0, 0, 0, 0, 0, 0, 0, 0, 0, 0, 0, 0,\n",
       "       0, 0, 0, 0, 0, 0, 0, 0, 0, 0, 0, 0, 0, 0, 0, 0, 0, 0, 0, 0, 0, 0,\n",
       "       0, 0, 0, 0, 0, 0, 0, 0, 0, 0, 0, 0, 0, 0, 0, 0, 0, 0, 0, 0, 0, 0,\n",
       "       0, 0, 0, 0, 0, 0, 0, 0, 0, 0, 0, 0, 0, 0, 0, 0, 0, 0, 0, 0, 0, 0,\n",
       "       0, 0, 0, 0, 0, 0, 0, 0, 0, 0, 0, 0, 0, 0, 0, 0, 0, 0, 0, 0, 0, 0,\n",
       "       0, 0, 0, 0, 0, 0, 0, 0, 0, 0, 0, 0, 0, 0, 0, 0, 0], dtype=int64)"
      ]
     },
     "execution_count": 7,
     "metadata": {},
     "output_type": "execute_result"
    }
   ],
   "source": [
    "y"
   ]
  },
  {
   "cell_type": "code",
   "execution_count": 8,
   "id": "54e068af",
   "metadata": {},
   "outputs": [],
   "source": [
    "# training and testing\n",
    "from sklearn.model_selection import train_test_split\n",
    "\n",
    "X_train, X_test, y_train, y_test = train_test_split(X, y, test_size = 0.2 , random_state = 50 )"
   ]
  },
  {
   "cell_type": "code",
   "execution_count": 9,
   "id": "7e64f9db",
   "metadata": {},
   "outputs": [
    {
     "data": {
      "text/plain": [
       "((242, 13), (61, 13))"
      ]
     },
     "execution_count": 9,
     "metadata": {},
     "output_type": "execute_result"
    }
   ],
   "source": [
    "X_train.shape , X_test.shape"
   ]
  },
  {
   "cell_type": "code",
   "execution_count": 10,
   "id": "ec3479f0",
   "metadata": {},
   "outputs": [],
   "source": [
    "from tensorflow.keras import Sequential"
   ]
  },
  {
   "cell_type": "code",
   "execution_count": 11,
   "id": "2b655af0",
   "metadata": {},
   "outputs": [],
   "source": [
    "model = Sequential() # model is empty"
   ]
  },
  {
   "cell_type": "code",
   "execution_count": 12,
   "id": "2f99524e",
   "metadata": {},
   "outputs": [],
   "source": [
    "# input layer\n",
    "\n",
    "from tensorflow.keras.layers import Dense"
   ]
  },
  {
   "cell_type": "code",
   "execution_count": 13,
   "id": "6fda2d4b",
   "metadata": {},
   "outputs": [],
   "source": [
    "model.add(Dense(128, activation = 'relu', input_shape =(X_train.shape[1],)))"
   ]
  },
  {
   "cell_type": "code",
   "execution_count": 14,
   "id": "2e4d4d0d",
   "metadata": {},
   "outputs": [],
   "source": [
    "# hidden layer\n",
    "model.add(Dense(500, activation = 'relu'))\n",
    "model.add(Dense(250, activation = 'relu'))\n",
    "model.add(Dense(700, activation = 'relu'))\n",
    "model.add(Dense(630, activation = 'relu'))"
   ]
  },
  {
   "cell_type": "code",
   "execution_count": 15,
   "id": "1507d57c",
   "metadata": {},
   "outputs": [],
   "source": [
    "# output layer\n",
    "model.add(Dense(1, activation = 'sigmoid'))\n"
   ]
  },
  {
   "cell_type": "code",
   "execution_count": 16,
   "id": "4ad8e173",
   "metadata": {},
   "outputs": [],
   "source": [
    "model.compile(optimizer = 'adam',loss = 'binary_crossentropy',metrics =['accuracy'] ) # here class is 2 therefor if 3 class categorical"
   ]
  },
  {
   "cell_type": "code",
   "execution_count": 17,
   "id": "f1d7c4e5",
   "metadata": {},
   "outputs": [
    {
     "name": "stdout",
     "output_type": "stream",
     "text": [
      "Epoch 1/25\n",
      "49/49 [==============================] - 3s 19ms/step - loss: 2.2228 - accuracy: 0.5455\n",
      "Epoch 2/25\n",
      "49/49 [==============================] - 1s 19ms/step - loss: 0.6979 - accuracy: 0.6240\n",
      "Epoch 3/25\n",
      "49/49 [==============================] - 1s 19ms/step - loss: 0.6871 - accuracy: 0.5785\n",
      "Epoch 4/25\n",
      "49/49 [==============================] - 1s 19ms/step - loss: 0.7235 - accuracy: 0.6405\n",
      "Epoch 5/25\n",
      "49/49 [==============================] - 1s 23ms/step - loss: 0.7543 - accuracy: 0.6116\n",
      "Epoch 6/25\n",
      "49/49 [==============================] - 1s 22ms/step - loss: 0.6690 - accuracy: 0.6198\n",
      "Epoch 7/25\n",
      "49/49 [==============================] - 1s 20ms/step - loss: 0.6406 - accuracy: 0.6570\n",
      "Epoch 8/25\n",
      "49/49 [==============================] - 1s 21ms/step - loss: 0.6919 - accuracy: 0.5950\n",
      "Epoch 9/25\n",
      "49/49 [==============================] - 1s 20ms/step - loss: 0.7191 - accuracy: 0.5744\n",
      "Epoch 10/25\n",
      "49/49 [==============================] - 1s 20ms/step - loss: 0.6215 - accuracy: 0.6942\n",
      "Epoch 11/25\n",
      "49/49 [==============================] - 1s 22ms/step - loss: 0.6227 - accuracy: 0.6612\n",
      "Epoch 12/25\n",
      "49/49 [==============================] - 1s 19ms/step - loss: 0.5871 - accuracy: 0.7025\n",
      "Epoch 13/25\n",
      "49/49 [==============================] - 1s 23ms/step - loss: 0.5840 - accuracy: 0.6942\n",
      "Epoch 14/25\n",
      "49/49 [==============================] - 1s 21ms/step - loss: 0.6266 - accuracy: 0.6653\n",
      "Epoch 15/25\n",
      "49/49 [==============================] - 1s 22ms/step - loss: 0.6012 - accuracy: 0.6777\n",
      "Epoch 16/25\n",
      "49/49 [==============================] - 1s 21ms/step - loss: 0.5766 - accuracy: 0.6942\n",
      "Epoch 17/25\n",
      "49/49 [==============================] - 1s 26ms/step - loss: 0.6017 - accuracy: 0.6860\n",
      "Epoch 18/25\n",
      "49/49 [==============================] - 1s 22ms/step - loss: 0.6141 - accuracy: 0.6736\n",
      "Epoch 19/25\n",
      "49/49 [==============================] - 1s 24ms/step - loss: 0.5747 - accuracy: 0.7273\n",
      "Epoch 20/25\n",
      "49/49 [==============================] - 1s 20ms/step - loss: 0.5645 - accuracy: 0.7107\n",
      "Epoch 21/25\n",
      "49/49 [==============================] - 1s 21ms/step - loss: 0.5742 - accuracy: 0.7190\n",
      "Epoch 22/25\n",
      "49/49 [==============================] - 1s 25ms/step - loss: 0.5345 - accuracy: 0.7066\n",
      "Epoch 23/25\n",
      "49/49 [==============================] - 1s 20ms/step - loss: 0.6435 - accuracy: 0.7149\n",
      "Epoch 24/25\n",
      "49/49 [==============================] - 1s 21ms/step - loss: 0.5269 - accuracy: 0.7355\n",
      "Epoch 25/25\n",
      "49/49 [==============================] - 1s 21ms/step - loss: 0.5531 - accuracy: 0.7479\n"
     ]
    },
    {
     "data": {
      "text/plain": [
       "<keras.callbacks.History at 0x1766a993f10>"
      ]
     },
     "execution_count": 17,
     "metadata": {},
     "output_type": "execute_result"
    }
   ],
   "source": [
    "model.fit(X_train, y_train, epochs = 25, batch_size = 5, verbose = 1)"
   ]
  },
  {
   "cell_type": "code",
   "execution_count": null,
   "id": "395290bd",
   "metadata": {},
   "outputs": [],
   "source": []
  }
 ],
 "metadata": {
  "kernelspec": {
   "display_name": "Python 3 (ipykernel)",
   "language": "python",
   "name": "python3"
  },
  "language_info": {
   "codemirror_mode": {
    "name": "ipython",
    "version": 3
   },
   "file_extension": ".py",
   "mimetype": "text/x-python",
   "name": "python",
   "nbconvert_exporter": "python",
   "pygments_lexer": "ipython3",
   "version": "3.9.13"
  }
 },
 "nbformat": 4,
 "nbformat_minor": 5
}
